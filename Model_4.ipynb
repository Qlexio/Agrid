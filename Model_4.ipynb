{
 "cells": [
  {
   "cell_type": "markdown",
   "metadata": {},
   "source": [
    "# Choix du modèle\n",
    "\n",
    "Choix du modèle parmis:\n",
    "* KernelRidge\n",
    "* Gradient boosting\n",
    "* Random Forest Regressor\n",
    "* SVR???"
   ]
  },
  {
   "cell_type": "code",
   "execution_count": 17,
   "metadata": {},
   "outputs": [
    {
     "data": {
      "text/html": [
       "<div>\n",
       "<style scoped>\n",
       "    .dataframe tbody tr th:only-of-type {\n",
       "        vertical-align: middle;\n",
       "    }\n",
       "\n",
       "    .dataframe tbody tr th {\n",
       "        vertical-align: top;\n",
       "    }\n",
       "\n",
       "    .dataframe thead th {\n",
       "        text-align: right;\n",
       "    }\n",
       "</style>\n",
       "<table border=\"1\" class=\"dataframe\">\n",
       "  <thead>\n",
       "    <tr style=\"text-align: right;\">\n",
       "      <th></th>\n",
       "      <th>DateTime_m</th>\n",
       "      <th>Drive-sensor</th>\n",
       "      <th>InletTemp-sensor</th>\n",
       "      <th>Mode-sensor</th>\n",
       "      <th>SetTemp-sensor</th>\n",
       "      <th>temp</th>\n",
       "      <th>rhum</th>\n",
       "      <th>prcp</th>\n",
       "      <th>wspd</th>\n",
       "      <th>wpgt</th>\n",
       "      <th>pres</th>\n",
       "    </tr>\n",
       "  </thead>\n",
       "  <tbody>\n",
       "    <tr>\n",
       "      <th>0</th>\n",
       "      <td>1.634552e+09</td>\n",
       "      <td>0.0</td>\n",
       "      <td>19.1</td>\n",
       "      <td>2.0</td>\n",
       "      <td>29.0</td>\n",
       "      <td>12.9</td>\n",
       "      <td>76.0</td>\n",
       "      <td>0.0</td>\n",
       "      <td>9.4</td>\n",
       "      <td>20.4</td>\n",
       "      <td>1022.0</td>\n",
       "    </tr>\n",
       "    <tr>\n",
       "      <th>1</th>\n",
       "      <td>1.634566e+09</td>\n",
       "      <td>0.0</td>\n",
       "      <td>19.3</td>\n",
       "      <td>2.0</td>\n",
       "      <td>29.0</td>\n",
       "      <td>18.6</td>\n",
       "      <td>67.0</td>\n",
       "      <td>0.0</td>\n",
       "      <td>14.8</td>\n",
       "      <td>24.1</td>\n",
       "      <td>1020.7</td>\n",
       "    </tr>\n",
       "    <tr>\n",
       "      <th>2</th>\n",
       "      <td>1.634580e+09</td>\n",
       "      <td>0.0</td>\n",
       "      <td>20.2</td>\n",
       "      <td>2.0</td>\n",
       "      <td>29.0</td>\n",
       "      <td>16.6</td>\n",
       "      <td>82.0</td>\n",
       "      <td>0.0</td>\n",
       "      <td>5.4</td>\n",
       "      <td>18.0</td>\n",
       "      <td>1021.3</td>\n",
       "    </tr>\n",
       "    <tr>\n",
       "      <th>3</th>\n",
       "      <td>1.634594e+09</td>\n",
       "      <td>0.0</td>\n",
       "      <td>20.4</td>\n",
       "      <td>2.0</td>\n",
       "      <td>29.0</td>\n",
       "      <td>15.6</td>\n",
       "      <td>93.0</td>\n",
       "      <td>0.2</td>\n",
       "      <td>11.2</td>\n",
       "      <td>24.1</td>\n",
       "      <td>1021.0</td>\n",
       "    </tr>\n",
       "    <tr>\n",
       "      <th>4</th>\n",
       "      <td>1.634609e+09</td>\n",
       "      <td>0.0</td>\n",
       "      <td>20.9</td>\n",
       "      <td>2.0</td>\n",
       "      <td>29.0</td>\n",
       "      <td>15.5</td>\n",
       "      <td>93.0</td>\n",
       "      <td>0.0</td>\n",
       "      <td>5.4</td>\n",
       "      <td>24.1</td>\n",
       "      <td>1020.6</td>\n",
       "    </tr>\n",
       "    <tr>\n",
       "      <th>...</th>\n",
       "      <td>...</td>\n",
       "      <td>...</td>\n",
       "      <td>...</td>\n",
       "      <td>...</td>\n",
       "      <td>...</td>\n",
       "      <td>...</td>\n",
       "      <td>...</td>\n",
       "      <td>...</td>\n",
       "      <td>...</td>\n",
       "      <td>...</td>\n",
       "      <td>...</td>\n",
       "    </tr>\n",
       "    <tr>\n",
       "      <th>5467</th>\n",
       "      <td>1.637442e+09</td>\n",
       "      <td>0.0</td>\n",
       "      <td>21.4</td>\n",
       "      <td>2.0</td>\n",
       "      <td>26.0</td>\n",
       "      <td>6.4</td>\n",
       "      <td>92.0</td>\n",
       "      <td>0.0</td>\n",
       "      <td>5.4</td>\n",
       "      <td>17.0</td>\n",
       "      <td>1020.3</td>\n",
       "    </tr>\n",
       "    <tr>\n",
       "      <th>5468</th>\n",
       "      <td>1.637456e+09</td>\n",
       "      <td>0.0</td>\n",
       "      <td>22.5</td>\n",
       "      <td>2.0</td>\n",
       "      <td>25.0</td>\n",
       "      <td>6.7</td>\n",
       "      <td>90.0</td>\n",
       "      <td>0.0</td>\n",
       "      <td>3.6</td>\n",
       "      <td>11.1</td>\n",
       "      <td>1017.9</td>\n",
       "    </tr>\n",
       "    <tr>\n",
       "      <th>5469</th>\n",
       "      <td>1.637471e+09</td>\n",
       "      <td>0.0</td>\n",
       "      <td>22.1</td>\n",
       "      <td>2.0</td>\n",
       "      <td>25.0</td>\n",
       "      <td>6.4</td>\n",
       "      <td>93.0</td>\n",
       "      <td>0.1</td>\n",
       "      <td>5.4</td>\n",
       "      <td>14.8</td>\n",
       "      <td>1016.0</td>\n",
       "    </tr>\n",
       "    <tr>\n",
       "      <th>5470</th>\n",
       "      <td>1.637485e+09</td>\n",
       "      <td>0.0</td>\n",
       "      <td>21.6</td>\n",
       "      <td>2.0</td>\n",
       "      <td>25.0</td>\n",
       "      <td>6.9</td>\n",
       "      <td>95.0</td>\n",
       "      <td>0.0</td>\n",
       "      <td>5.4</td>\n",
       "      <td>11.0</td>\n",
       "      <td>1015.1</td>\n",
       "    </tr>\n",
       "    <tr>\n",
       "      <th>5471</th>\n",
       "      <td>1.637500e+09</td>\n",
       "      <td>0.0</td>\n",
       "      <td>20.1</td>\n",
       "      <td>2.0</td>\n",
       "      <td>25.0</td>\n",
       "      <td>8.5</td>\n",
       "      <td>95.0</td>\n",
       "      <td>0.8</td>\n",
       "      <td>7.6</td>\n",
       "      <td>13.0</td>\n",
       "      <td>1013.6</td>\n",
       "    </tr>\n",
       "  </tbody>\n",
       "</table>\n",
       "<p>5472 rows × 11 columns</p>\n",
       "</div>"
      ],
      "text/plain": [
       "        DateTime_m  Drive-sensor  InletTemp-sensor  Mode-sensor  \\\n",
       "0     1.634552e+09           0.0              19.1          2.0   \n",
       "1     1.634566e+09           0.0              19.3          2.0   \n",
       "2     1.634580e+09           0.0              20.2          2.0   \n",
       "3     1.634594e+09           0.0              20.4          2.0   \n",
       "4     1.634609e+09           0.0              20.9          2.0   \n",
       "...            ...           ...               ...          ...   \n",
       "5467  1.637442e+09           0.0              21.4          2.0   \n",
       "5468  1.637456e+09           0.0              22.5          2.0   \n",
       "5469  1.637471e+09           0.0              22.1          2.0   \n",
       "5470  1.637485e+09           0.0              21.6          2.0   \n",
       "5471  1.637500e+09           0.0              20.1          2.0   \n",
       "\n",
       "      SetTemp-sensor  temp  rhum  prcp  wspd  wpgt    pres  \n",
       "0               29.0  12.9  76.0   0.0   9.4  20.4  1022.0  \n",
       "1               29.0  18.6  67.0   0.0  14.8  24.1  1020.7  \n",
       "2               29.0  16.6  82.0   0.0   5.4  18.0  1021.3  \n",
       "3               29.0  15.6  93.0   0.2  11.2  24.1  1021.0  \n",
       "4               29.0  15.5  93.0   0.0   5.4  24.1  1020.6  \n",
       "...              ...   ...   ...   ...   ...   ...     ...  \n",
       "5467            26.0   6.4  92.0   0.0   5.4  17.0  1020.3  \n",
       "5468            25.0   6.7  90.0   0.0   3.6  11.1  1017.9  \n",
       "5469            25.0   6.4  93.0   0.1   5.4  14.8  1016.0  \n",
       "5470            25.0   6.9  95.0   0.0   5.4  11.0  1015.1  \n",
       "5471            25.0   8.5  95.0   0.8   7.6  13.0  1013.6  \n",
       "\n",
       "[5472 rows x 11 columns]"
      ]
     },
     "execution_count": 17,
     "metadata": {},
     "output_type": "execute_result"
    }
   ],
   "source": [
    "import pandas as pd\n",
    "import numpy as np\n",
    "from meteostat import Point, Hourly\n",
    "import matplotlib.pyplot as plt\n",
    "\n",
    "pd.set_option(\"display.max_columns\", None)\n",
    "\n",
    "datas = pd.read_csv(\"compl_datas.csv\")\n",
    "datas"
   ]
  },
  {
   "cell_type": "code",
   "execution_count": 46,
   "metadata": {},
   "outputs": [
    {
     "data": {
      "text/plain": [
       "0.0"
      ]
     },
     "execution_count": 46,
     "metadata": {},
     "output_type": "execute_result"
    }
   ],
   "source": [
    "5.5 // 6"
   ]
  },
  {
   "cell_type": "code",
   "execution_count": 18,
   "metadata": {},
   "outputs": [
    {
     "data": {
      "text/html": [
       "<div>\n",
       "<style scoped>\n",
       "    .dataframe tbody tr th:only-of-type {\n",
       "        vertical-align: middle;\n",
       "    }\n",
       "\n",
       "    .dataframe tbody tr th {\n",
       "        vertical-align: top;\n",
       "    }\n",
       "\n",
       "    .dataframe thead th {\n",
       "        text-align: right;\n",
       "    }\n",
       "</style>\n",
       "<table border=\"1\" class=\"dataframe\">\n",
       "  <thead>\n",
       "    <tr style=\"text-align: right;\">\n",
       "      <th></th>\n",
       "      <th>kernelridge</th>\n",
       "      <th>xgboost</th>\n",
       "      <th>rfr</th>\n",
       "    </tr>\n",
       "  </thead>\n",
       "  <tbody>\n",
       "    <tr>\n",
       "      <th>train</th>\n",
       "      <td>NaN</td>\n",
       "      <td>NaN</td>\n",
       "      <td>NaN</td>\n",
       "    </tr>\n",
       "    <tr>\n",
       "      <th>test</th>\n",
       "      <td>NaN</td>\n",
       "      <td>NaN</td>\n",
       "      <td>NaN</td>\n",
       "    </tr>\n",
       "  </tbody>\n",
       "</table>\n",
       "</div>"
      ],
      "text/plain": [
       "      kernelridge xgboost  rfr\n",
       "train         NaN     NaN  NaN\n",
       "test          NaN     NaN  NaN"
      ]
     },
     "execution_count": 18,
     "metadata": {},
     "output_type": "execute_result"
    }
   ],
   "source": [
    "scores_df = pd.DataFrame([], columns= [\"kernelridge\", \"xgboost\", \"rfr\"], index= [\"train\", \"test\"])\n",
    "scores_df"
   ]
  },
  {
   "cell_type": "code",
   "execution_count": 19,
   "metadata": {},
   "outputs": [],
   "source": [
    "from sklearn.preprocessing import QuantileTransformer, StandardScaler\n",
    "from sklearn.model_selection import train_test_split\n",
    "from sklearn.compose import TransformedTargetRegressor\n",
    "from sklearn.metrics import r2_score\n",
    "from sklearn.kernel_ridge import KernelRidge\n",
    "from xgboost import XGBRegressor, XGBRFRegressor\n"
   ]
  },
  {
   "cell_type": "markdown",
   "metadata": {},
   "source": [
    "split des données"
   ]
  },
  {
   "cell_type": "code",
   "execution_count": 20,
   "metadata": {},
   "outputs": [],
   "source": [
    "X_cols = [x for x in datas.columns if x not in [\"SetTemp-sensor\", \"DateTime_m\"]]\n",
    "y_col = \"SetTemp-sensor\"\n",
    "\n",
    "X_train, X_test, y_train, y_test = train_test_split(datas[X_cols], datas[y_col], \n",
    "    train_size= 0.7, random_state= 42)"
   ]
  },
  {
   "cell_type": "markdown",
   "metadata": {},
   "source": [
    "transformation des données"
   ]
  },
  {
   "cell_type": "code",
   "execution_count": 21,
   "metadata": {},
   "outputs": [],
   "source": [
    "tmp_cols = [x for x in X_train.columns if x not in [\"DateTime_m\", \"Drive-sensor\", \"Mode-sensor\"]]\n",
    "\n",
    "ssc = StandardScaler()\n",
    "ssc.fit(X_train[tmp_cols])\n",
    "\n",
    "X_tr_ssc_nodate = pd.DataFrame(ssc.transform(X_train[tmp_cols]), columns= tmp_cols, index= X_train.index)\n",
    "X_tr_ssc = pd.concat([X_tr_ssc_nodate, X_train[[\"Drive-sensor\", \"Mode-sensor\"]]], axis= 1)\n",
    "\n",
    "X_te_ssc_nodate = pd.DataFrame(ssc.transform(X_test[tmp_cols]), columns= tmp_cols, index= X_test.index)\n",
    "X_te_ssc = pd.concat([X_te_ssc_nodate, X_test[[\"Drive-sensor\", \"Mode-sensor\"]]], axis= 1)"
   ]
  },
  {
   "cell_type": "markdown",
   "metadata": {},
   "source": [
    "KernelRidge"
   ]
  },
  {
   "cell_type": "code",
   "execution_count": 22,
   "metadata": {},
   "outputs": [],
   "source": [
    "krr = KernelRidge(alpha= 0.01, kernel= \"rbf\") #, gamma= 10)\n",
    "\n",
    "krr_model = TransformedTargetRegressor(krr, transformer=QuantileTransformer(output_distribution=\"uniform\"))\n",
    "krr_model.fit(X_tr_ssc, y_train)\n",
    "\n",
    "y_pred = krr_model.predict(X_te_ssc)\n",
    "\n",
    "scores_df.loc[\"train\", \"kernelridge\"] = krr_model.score(X_tr_ssc, y_train)\n",
    "scores_df.loc[\"test\", \"kernelridge\"] = r2_score(y_test, np.round(y_pred))"
   ]
  },
  {
   "cell_type": "markdown",
   "metadata": {},
   "source": [
    "Gradient boosting"
   ]
  },
  {
   "cell_type": "code",
   "execution_count": 23,
   "metadata": {},
   "outputs": [],
   "source": [
    "xgb = XGBRegressor(colsample_bytree= 0.6, gamma= 0.01, max_depth= 8, min_child_weight= 1, n_estimators = 1000, \n",
    "    objective= \"reg:squarederror\", reg_alpha= 0.01, reg_lambda= 0.1, seed= 42, subsample = 0.9)\n",
    "\n",
    "xgb_model = TransformedTargetRegressor(xgb, transformer=QuantileTransformer(output_distribution=\"uniform\"))\n",
    "xgb_model.fit(X_tr_ssc, y_train)\n",
    "\n",
    "y_pred = xgb_model.predict(X_te_ssc)\n",
    "\n",
    "scores_df.loc[\"train\", \"xgboost\"] = xgb_model.score(X_tr_ssc, y_train)\n",
    "scores_df.loc[\"test\", \"xgboost\"] = r2_score(y_test, np.round(y_pred))"
   ]
  },
  {
   "cell_type": "code",
   "execution_count": 48,
   "metadata": {},
   "outputs": [
    {
     "data": {
      "text/plain": [
       "['settemp_model.sav']"
      ]
     },
     "execution_count": 48,
     "metadata": {},
     "output_type": "execute_result"
    }
   ],
   "source": [
    "import joblib\n",
    "\n",
    "joblib.dump(xgb_model, \"settemp_model.sav\")"
   ]
  },
  {
   "cell_type": "markdown",
   "metadata": {},
   "source": [
    "Random forest regressor"
   ]
  },
  {
   "cell_type": "code",
   "execution_count": 24,
   "metadata": {},
   "outputs": [],
   "source": [
    "rfr = XGBRFRegressor(colsample_bynode= 0.2, max_depth= 8, min_child_weight= 5, n_estimators= 268, \n",
    "    objective= \"reg:squarederror\", reg_alpha= 0.01, reg_lambda= 0.001, seed= 42, subsample= 0.9)\n",
    "\n",
    "rfr_model = TransformedTargetRegressor(rfr, transformer=QuantileTransformer(output_distribution=\"uniform\"))\n",
    "rfr_model.fit(X_tr_ssc, y_train)\n",
    "\n",
    "y_pred = rfr_model.predict(X_te_ssc)\n",
    "\n",
    "scores_df.loc[\"train\", \"rfr\"] = rfr_model.score(X_tr_ssc, y_train)\n",
    "scores_df.loc[\"test\", \"rfr\"] = r2_score(y_test, np.round(y_pred))"
   ]
  },
  {
   "cell_type": "markdown",
   "metadata": {},
   "source": [
    "Graph des scores"
   ]
  },
  {
   "cell_type": "code",
   "execution_count": 25,
   "metadata": {},
   "outputs": [
    {
     "data": {
      "image/png": "[encoded data removed]",
      "text/plain": [
       "<Figure size 720x720 with 1 Axes>"
      ]
     },
     "metadata": {
      "needs_background": "light"
     },
     "output_type": "display_data"
    }
   ],
   "source": [
    "fig, ax = plt.subplots(figsize=(10,10))\n",
    "\n",
    "ax.plot([x for x in scores_df.columns], [scores_df.loc[\"train\", x] for x in scores_df.columns], \"ro-\", label= \"Train score\")\n",
    "ax.plot([x for x in scores_df.columns], [scores_df.loc[\"test\", x] for x in scores_df.columns], \"bo-\", label= \"Test score\")\n",
    "\n",
    "ymin = round(scores_df.min().min()-0.05, 2)\n",
    "ymax = round(scores_df.max().max()+0.05, 2)\n",
    "plt.ylim(ymin, ymax)\n",
    "ax.set_yticks(np.linspace(ymin, ymax, int((ymax-ymin)*100+1)), minor=True)\n",
    "\n",
    "ax.grid(True, which=\"major\" , axis=\"y\", alpha= 1)\n",
    "ax.grid(True, which=\"minor\" , axis=\"y\", alpha= 0.5)\n",
    "ax.grid(True, which=\"major\" , axis=\"x\")\n",
    "\n",
    "ax.legend()\n",
    "plt.show()"
   ]
  },
  {
   "cell_type": "code",
   "execution_count": 26,
   "metadata": {},
   "outputs": [
    {
     "data": {
      "image/png": "[encoded data removed]",
      "text/plain": [
       "<Figure size 720x720 with 1 Axes>"
      ]
     },
     "metadata": {
      "needs_background": "light"
     },
     "output_type": "display_data"
    }
   ],
   "source": [
    "labels = [\"kernelridge\", \"xgboost\"]\n",
    "train_scores = [scores_df.loc[\"train\", x] for x in labels]\n",
    "test_scores = [scores_df.loc[\"test\", x] for x in labels]\n",
    "\n",
    "x = np.arange(len(labels))\n",
    "width = 0.4\n",
    "\n",
    "fig, ax = plt.subplots(figsize=(10, 10))\n",
    "rects1 = ax.bar(x - width/2, train_scores, width, label= \"Train\")\n",
    "rects2 = ax.bar(x + width/2, test_scores, width, label= \"Test\")\n",
    "\n",
    "ax.set_xticks(x)\n",
    "ax.set_xticklabels(labels)\n",
    "\n",
    "ax.bar_label(rects1, padding=3)\n",
    "ax.bar_label(rects2, padding=3)\n",
    "\n",
    "plt.ylim(0.85, 1.0)\n",
    "\n",
    "ax.legend()\n",
    "plt.show()"
   ]
  },
  {
   "cell_type": "markdown",
   "metadata": {},
   "source": [
    "XGBRegressor est le meilleur modèle"
   ]
  },
  {
   "cell_type": "code",
   "execution_count": 56,
   "metadata": {},
   "outputs": [
    {
     "name": "stdout",
     "output_type": "stream",
     "text": [
      "   temp  dwpt  rhum  prcp  snow   wdir  wspd  wpgt    pres  tsun  coco\n",
      "0   8.3   7.5  95.0   0.0   NaN  202.0  10.4  16.7  1004.3   NaN   7.0\n",
      "   temp  dwpt  rhum  prcp  snow   wdir  wspd  wpgt    pres  tsun  coco\n",
      "0   8.3   7.5  95.0   0.0   NaN  202.0  10.4  16.7  1004.3   NaN   7.0\n",
      "   temp  dwpt  rhum  prcp  snow   wdir  wspd  wpgt    pres  tsun  coco\n",
      "0   8.3   7.5  95.0   0.0   NaN  202.0  10.4  16.7  1004.3   NaN   7.0\n",
      "   temp  dwpt  rhum  prcp  snow   wdir  wspd  wpgt    pres  tsun  coco\n",
      "0   8.3   7.5  95.0   0.0   NaN  202.0  10.4  16.7  1004.3   NaN   7.0\n",
      "   temp  dwpt  rhum  prcp  snow   wdir  wspd  wpgt    pres  tsun  coco\n",
      "0   8.3   7.5  95.0   0.0   NaN  202.0  10.4  16.7  1004.3   NaN   7.0\n",
      "   temp  dwpt  rhum  prcp  snow   wdir  wspd  wpgt    pres  tsun  coco\n",
      "0   8.3   7.5  95.0   0.0   NaN  202.0  10.4  16.7  1004.3   NaN   7.0\n",
      "   temp  dwpt  rhum  prcp  snow   wdir  wspd  wpgt    pres  tsun  coco\n",
      "0   8.3   7.5  95.0   0.0   NaN  202.0  10.4  16.7  1004.3   NaN   7.0\n",
      "   temp  dwpt  rhum  prcp  snow   wdir  wspd  wpgt    pres  tsun  coco\n",
      "0   8.3   7.5  95.0   0.0   NaN  202.0  10.4  16.7  1004.3   NaN   7.0\n",
      "   temp  dwpt  rhum  prcp  snow   wdir  wspd  wpgt    pres  tsun  coco\n",
      "0   8.3   7.5  95.0   0.0   NaN  202.0  10.4  16.7  1004.3   NaN   7.0\n",
      "   temp  dwpt  rhum  prcp  snow   wdir  wspd  wpgt    pres  tsun  coco\n",
      "0   8.3   7.5  95.0   0.0   NaN  202.0  10.4  16.7  1004.3   NaN   7.0\n",
      "   temp  dwpt  rhum  prcp  snow   wdir  wspd  wpgt    pres  tsun  coco\n",
      "0   8.3   7.5  95.0   0.0   NaN  202.0  10.4  16.7  1004.3   NaN   7.0\n",
      "   temp  dwpt  rhum  prcp  snow   wdir  wspd  wpgt    pres  tsun  coco\n",
      "0   8.3   7.5  95.0   0.0   NaN  202.0  10.4  16.7  1004.3   NaN   7.0\n",
      "   temp  dwpt  rhum  prcp  snow   wdir  wspd  wpgt    pres  tsun  coco\n",
      "0   8.3   7.5  95.0   0.0   NaN  202.0  10.4  16.7  1004.3   NaN   7.0\n",
      "   temp  dwpt  rhum  prcp  snow   wdir  wspd  wpgt    pres  tsun  coco\n",
      "0   8.3   7.5  95.0   0.0   NaN  202.0  10.4  16.7  1004.3   NaN   7.0\n",
      "   temp  dwpt  rhum  prcp  snow   wdir  wspd  wpgt    pres  tsun  coco\n",
      "0   8.3   7.5  95.0   0.0   NaN  202.0  10.4  16.7  1004.3   NaN   7.0\n",
      "   temp  dwpt  rhum  prcp  snow   wdir  wspd  wpgt    pres  tsun  coco\n",
      "0   8.3   7.5  95.0   0.0   NaN  202.0  10.4  16.7  1004.3   NaN   7.0\n",
      "   temp  dwpt  rhum  prcp  snow   wdir  wspd  wpgt    pres  tsun  coco\n",
      "0   8.3   7.5  95.0   0.0   NaN  202.0  10.4  16.7  1004.3   NaN   7.0\n",
      "   temp  dwpt  rhum  prcp  snow   wdir  wspd  wpgt    pres  tsun  coco\n",
      "0   8.3   7.5  95.0   0.0   NaN  202.0  10.4  16.7  1004.3   NaN   7.0\n",
      "   temp  dwpt  rhum  prcp  snow   wdir  wspd  wpgt    pres  tsun  coco\n",
      "0   8.3   7.5  95.0   0.0   NaN  202.0  10.4  16.7  1004.3   NaN   7.0\n",
      "   temp  dwpt  rhum  prcp  snow   wdir  wspd  wpgt    pres  tsun  coco\n",
      "0   8.3   7.5  95.0   0.0   NaN  202.0  10.4  16.7  1004.3   NaN   7.0\n",
      "   temp  dwpt  rhum  prcp  snow   wdir  wspd  wpgt    pres  tsun  coco\n",
      "0   8.3   7.5  95.0   0.0   NaN  202.0  10.4  16.7  1004.3   NaN   7.0\n",
      "   temp  dwpt  rhum  prcp  snow   wdir  wspd  wpgt    pres  tsun  coco\n",
      "0   8.3   7.5  95.0   0.0   NaN  202.0  10.4  16.7  1004.3   NaN   7.0\n",
      "   temp  dwpt  rhum  prcp  snow   wdir  wspd  wpgt    pres  tsun  coco\n",
      "0   8.3   7.5  95.0   0.0   NaN  202.0  10.4  16.7  1004.3   NaN   7.0\n",
      "   temp  dwpt  rhum  prcp  snow   wdir  wspd  wpgt    pres  tsun  coco\n",
      "0   8.3   7.5  95.0   0.0   NaN  202.0  10.4  16.7  1004.3   NaN   7.0\n",
      "   temp  dwpt  rhum  prcp  snow   wdir  wspd  wpgt    pres  tsun  coco\n",
      "0   8.3   7.5  95.0   0.0   NaN  202.0  10.4  16.7  1004.3   NaN   7.0\n",
      "   temp  dwpt  rhum  prcp  snow   wdir  wspd  wpgt    pres  tsun  coco\n",
      "0   8.3   7.5  95.0   0.0   NaN  202.0  10.4  16.7  1004.3   NaN   7.0\n",
      "   temp  dwpt  rhum  prcp  snow   wdir  wspd  wpgt    pres  tsun  coco\n",
      "0   8.3   7.5  95.0   0.0   NaN  202.0  10.4  16.7  1004.3   NaN   7.0\n",
      "   temp  dwpt  rhum  prcp  snow   wdir  wspd  wpgt    pres  tsun  coco\n",
      "0   8.3   7.5  95.0   0.0   NaN  202.0  10.4  16.7  1004.3   NaN   7.0\n",
      "   temp  dwpt  rhum  prcp  snow   wdir  wspd  wpgt    pres  tsun  coco\n",
      "0   8.3   7.5  95.0   0.0   NaN  202.0  10.4  16.7  1004.3   NaN   7.0\n",
      "   temp  dwpt  rhum  prcp  snow   wdir  wspd  wpgt    pres  tsun  coco\n",
      "0   8.3   7.5  95.0   0.0   NaN  202.0  10.4  16.7  1004.3   NaN   7.0\n",
      "   temp  dwpt  rhum  prcp  snow   wdir  wspd  wpgt    pres  tsun  coco\n",
      "0   8.3   7.5  95.0   0.0   NaN  202.0  10.4  16.7  1004.3   NaN   7.0\n",
      "   temp  dwpt  rhum  prcp  snow   wdir  wspd  wpgt    pres  tsun  coco\n",
      "0   8.3   7.5  95.0   0.0   NaN  202.0  10.4  16.7  1004.3   NaN   7.0\n",
      "   temp  dwpt  rhum  prcp  snow   wdir  wspd  wpgt    pres  tsun  coco\n",
      "0   8.3   7.5  95.0   0.0   NaN  202.0  10.4  16.7  1004.3   NaN   7.0\n"
     ]
    },
    {
     "data": {
      "text/plain": [
       "[<matplotlib.lines.Line2D at 0x1d9db081400>]"
      ]
     },
     "execution_count": 56,
     "metadata": {},
     "output_type": "execute_result"
    },
    {
     "data": {
      "image/png": "[encoded data removed]",
      "text/plain": [
       "<Figure size 720x720 with 1 Axes>"
      ]
     },
     "metadata": {
      "needs_background": "light"
     },
     "output_type": "display_data"
    }
   ],
   "source": [
    "from datetime import datetime, timedelta\n",
    "\n",
    "model = joblib.load(\"settemp_model.sav\")\n",
    "\n",
    "datetime_m = datetime.timestamp(datetime.now())\n",
    "# Ville\n",
    "Paris = Point(48.82, 2.34, 75)\n",
    "\n",
    "results_list = []\n",
    "for i in np.arange(16, 32.1, 0.5):\n",
    "    drive = 0.0\n",
    "    inlet = i\n",
    "    mode = 2.0\n",
    "\n",
    "    m_datas = Hourly(Paris, datetime.now() - timedelta(hours= 1), datetime.now())\n",
    "    m_datas = m_datas.fetch()\n",
    "    m_datas = m_datas.reset_index(drop= True)\n",
    "    print(m_datas)\n",
    "\n",
    "    temp = m_datas.loc[0, \"temp\"]\n",
    "    rhum = m_datas.loc[0, \"rhum\"]\n",
    "    prcp = m_datas.loc[0, \"prcp\"]\n",
    "    wspd = m_datas.loc[0, \"wspd\"]\n",
    "    wpgt = m_datas.loc[0, \"wpgt\"]\n",
    "    pres = m_datas.loc[0, \"pres\"]\n",
    "\n",
    "    df_test = pd.DataFrame([[inlet, 25, rhum, prcp, wspd, wpgt, pres, drive, mode]], \n",
    "        columns= X_tr_ssc.columns)\n",
    "    # print(df_test)\n",
    "\n",
    "    df_tmp = pd.DataFrame(ssc.transform(df_test[tmp_cols]), columns= tmp_cols)\n",
    "    df_test = pd.concat([df_tmp, df_test[[\"Drive-sensor\", \"Mode-sensor\"]]], axis= 1)\n",
    "\n",
    "\n",
    "    # print(f\"df_test {i}: {krr.predict(df_test)}\")\n",
    "    results_list.append(np.round(model.predict(df_test)))\n",
    "\n",
    "fig = plt.figure(figsize=(10, 10))\n",
    "\n",
    "plt.plot([x for x in np.arange(16, 32.1, 0.5)], results_list)\n"
   ]
  }
 ],
 "metadata": {
  "interpreter": {
   "hash": "c41a7b1d73be963b12274ea26e97c36183a8e874bdf8628a8c7c44cf12df08ab"
  },
  "kernelspec": {
   "display_name": "Python 3.9.9 64-bit (windows store)",
   "language": "python",
   "name": "python3"
  },
  "language_info": {
   "codemirror_mode": {
    "name": "ipython",
    "version": 3
   },
   "file_extension": ".py",
   "mimetype": "text/x-python",
   "name": "python",
   "nbconvert_exporter": "python",
   "pygments_lexer": "ipython3",
   "version": "3.9.9"
  },
  "orig_nbformat": 4
 },
 "nbformat": 4,
 "nbformat_minor": 2
}
